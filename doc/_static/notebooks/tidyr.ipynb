{
 "cells": [
  {
   "cell_type": "code",
   "execution_count": 1,
   "metadata": {},
   "outputs": [],
   "source": [
    "from functools import partial\n",
    "from rpy2.ipython import html\n",
    "html.html_rdataframe=partial(html.html_rdataframe, table_class=\"docutils\")"
   ]
  },
  {
   "cell_type": "markdown",
   "metadata": {},
   "source": [
    "# tidyr in Python"
   ]
  },
  {
   "cell_type": "code",
   "execution_count": 2,
   "metadata": {},
   "outputs": [
    {
     "name": "stderr",
     "output_type": "stream",
     "text": [
      "/home/laurent/Desktop/software/python/py35_env/lib/python3.5/site-packages/rpy2-3.0.0.dev0-py3.5-linux-x86_64.egg/rpy2/robjects/lib/tidyr.py:10: UserWarning: This was designed againt tidyr version 0.7.2 but you have 0.7.1\n",
      "  warnings.warn('This was designed againt tidyr version %s but you have %s' % (TARGET_VERSION, tidyr.__version__))\n"
     ]
    },
    {
     "name": "stderr",
     "output_type": "stream",
     "text": [
      "/home/laurent/Desktop/software/python/py35_env/lib/python3.5/site-packages/rpy2-3.0.0.dev0-py3.5-linux-x86_64.egg/rpy2/robjects/lib/dplyr.py:24: UserWarning: This was designed againt dplyr version 0.7.4 but you have 0.7.3\n",
      "  warnings.warn('This was designed againt dplyr version %s but you have %s' % (TARGET_VERSION, dplyr.__version__))\n"
     ]
    }
   ],
   "source": [
    "from rpy2.robjects.lib.tidyr import DataFrame"
   ]
  },
  {
   "cell_type": "markdown",
   "metadata": {},
   "source": [
    "(note: `dplyr` is implicitly used by `tidyr`.)\n",
    "\n",
    "In addition to that, and because this tutorial is in a notebook,\n",
    "we initialize HTML rendering for R objects (pretty display of\n",
    "R data frames)."
   ]
  },
  {
   "cell_type": "code",
   "execution_count": 3,
   "metadata": {},
   "outputs": [],
   "source": [
    "import rpy2.ipython.html\n",
    "rpy2.ipython.html.init_printing()"
   ]
  },
  {
   "cell_type": "code",
   "execution_count": 4,
   "metadata": {},
   "outputs": [
    {
     "data": {
      "text/html": [
       "\n",
       "<emph>DataFrame</emph> with 3 rows and 3 columns:\n",
       "<table class=\"docutils\">\n",
       "  <thead>\n",
       "    <tr class=\"rpy2_names\">\n",
       "      <th></th>\n",
       "      <th></th>\n",
       "      <th>z</th>\n",
       "      <th>y</th>\n",
       "      <th>x</th>\n",
       "    </tr>\n",
       "  </thead>\n",
       "  <tbody>\n",
       "    <tr>\n",
       "      <td class=\"rpy2_rowname\">0</td>\n",
       "        <td class=\"rpy2_names\">1</td>\n",
       "      <td>6</td>\n",
       "      <td>3</td>\n",
       "      <td>a</td>\n",
       "    </tr>\n",
       "    <tr>\n",
       "      <td class=\"rpy2_rowname\">1</td>\n",
       "        <td class=\"rpy2_names\">2</td>\n",
       "      <td>7</td>\n",
       "      <td>4</td>\n",
       "      <td>b</td>\n",
       "    </tr>\n",
       "    <tr>\n",
       "      <td class=\"rpy2_rowname\">2</td>\n",
       "        <td class=\"rpy2_names\">3</td>\n",
       "      <td>8</td>\n",
       "      <td>5</td>\n",
       "      <td>b</td>\n",
       "    </tr>\n",
       "  </tbody>\n",
       "</table>"
      ],
      "text/plain": [
       "R object with classes: ('data.frame',) mapped to:\n",
       "<DataFrame - Python:0x7f0901a5dc08 / R:0x55f8e61b20d0>\n",
       "[IntVector, IntVector, StrVector]\n",
       "  z: <class 'rpy2.robjects.vectors.IntVector'>\n",
       "  R object with classes: ('integer',) mapped to:\n",
       "<IntVector - Python:0x7f0901a50908 / R:0x55f8e53f0818>\n",
       "[6, 7, 8]\n",
       "  y: <class 'rpy2.robjects.vectors.IntVector'>\n",
       "  R object with classes: ('integer',) mapped to:\n",
       "<IntVector - Python:0x7f0901a50548 / R:0x55f8e541c0a8>\n",
       "[3, 4, 5]\n",
       "  x: <class 'rpy2.robjects.vectors.StrVector'>\n",
       "  R object with classes: ('character',) mapped to:\n",
       "<StrVector - Python:0x7f0906d76e88 / R:0x55f8e6091bc0>\n",
       "['a', 'b', 'b']"
      ]
     },
     "execution_count": 4,
     "metadata": {},
     "output_type": "execute_result"
    }
   ],
   "source": [
    "from collections import OrderedDict\n",
    "from rpy2.robjects.vectors import (StrVector,\n",
    "                                   IntVector)\n",
    "dataf = DataFrame(OrderedDict(x=StrVector((\"a\", \"b\", \"b\")),\n",
    "                              y=IntVector((3, 4, 5)),\n",
    "\t\t              z=IntVector((6, 7, 8))))\n",
    "dataf"
   ]
  },
  {
   "cell_type": "code",
   "execution_count": 5,
   "metadata": {},
   "outputs": [
    {
     "data": {
      "text/html": [
       "\n",
       "<emph>DataFrame</emph> with 3 rows and 3 columns:\n",
       "<table class=\"docutils\">\n",
       "  <thead>\n",
       "    <tr class=\"rpy2_names\">\n",
       "      <th></th>\n",
       "      <th></th>\n",
       "      <th>z</th>\n",
       "      <th>a</th>\n",
       "      <th>b</th>\n",
       "    </tr>\n",
       "  </thead>\n",
       "  <tbody>\n",
       "    <tr>\n",
       "      <td class=\"rpy2_rowname\">0</td>\n",
       "        <td class=\"rpy2_names\">1</td>\n",
       "      <td>6</td>\n",
       "      <td>3</td>\n",
       "      <td>-2147483648</td>\n",
       "    </tr>\n",
       "    <tr>\n",
       "      <td class=\"rpy2_rowname\">1</td>\n",
       "        <td class=\"rpy2_names\">2</td>\n",
       "      <td>7</td>\n",
       "      <td>-2147483648</td>\n",
       "      <td>4</td>\n",
       "    </tr>\n",
       "    <tr>\n",
       "      <td class=\"rpy2_rowname\">2</td>\n",
       "        <td class=\"rpy2_names\">3</td>\n",
       "      <td>8</td>\n",
       "      <td>-2147483648</td>\n",
       "      <td>5</td>\n",
       "    </tr>\n",
       "  </tbody>\n",
       "</table>"
      ],
      "text/plain": [
       "R object with classes: ('data.frame',) mapped to:\n",
       "<DataFrame - Python:0x7f0906d9d9c8 / R:0x55f8e6c259d8>\n",
       "[IntVector, IntVector, IntVector]\n",
       "  z: <class 'rpy2.robjects.vectors.IntVector'>\n",
       "  R object with classes: ('integer',) mapped to:\n",
       "<IntVector - Python:0x7f0934628708 / R:0x55f8e63faf50>\n",
       "[6, 7, 8]\n",
       "  a: <class 'rpy2.robjects.vectors.IntVector'>\n",
       "  R object with classes: ('integer',) mapped to:\n",
       "<IntVector - Python:0x7f0901a08648 / R:0x55f8e3901de0>\n",
       "[3, -2,147,483,648, -2,147,483,648]\n",
       "  b: <class 'rpy2.robjects.vectors.IntVector'>\n",
       "  R object with classes: ('integer',) mapped to:\n",
       "<IntVector - Python:0x7f0901a08b08 / R:0x55f8e3901ec0>\n",
       "[-2,147,483,648, 4, 5]"
      ]
     },
     "execution_count": 5,
     "metadata": {},
     "output_type": "execute_result"
    }
   ],
   "source": [
    "dataf.spread('x', 'y')"
   ]
  },
  {
   "cell_type": "markdown",
   "metadata": {},
   "source": [
    "**Reuse. Get things done. Don't reimplement.**"
   ]
  }
 ],
 "metadata": {},
 "nbformat": 4,
 "nbformat_minor": 2
}
